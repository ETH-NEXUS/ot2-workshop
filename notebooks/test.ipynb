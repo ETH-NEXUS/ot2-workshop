{
 "cells": [
  {
   "cell_type": "code",
   "execution_count": 15,
   "metadata": {},
   "outputs": [],
   "source": [
    "def check_result(expr, actual, expected):\n",
    "    if actual == expected:\n",
    "        print('Correct,', expr, '=', actual)\n",
    "    else:\n",
    "        print('Wrong!', expr, '=', actual, 'not ', expected)"
   ]
  },
  {
   "attachments": {},
   "cell_type": "markdown",
   "metadata": {},
   "source": [
    "# Nexus Python Workshop"
   ]
  },
  {
   "attachments": {},
   "cell_type": "markdown",
   "metadata": {},
   "source": [
    "Welcome!\n",
    "\n",
    "In this workshop we will be learning python interactively, by running code and solving exercises. \n",
    "\n",
    "We will be working in an interactive **jupyter notebook**, which allows to run code, show plots and write markdown text, all in the same file. \n",
    "\n",
    "Before we begin, it's important to learn how to execute the code in the notebook. Notebook consists of multiple **cells**, the easiest way to execute the code in a cell is to select it with a cursor and run it by pressing `Shift+Enter` hotkey. After that, output will be displayed below the cell. \n",
    "\n",
    "Go ahead and execute the code below"
   ]
  },
  {
   "cell_type": "code",
   "execution_count": 1,
   "metadata": {},
   "outputs": [
    {
     "name": "stdout",
     "output_type": "stream",
     "text": [
      "Hello World\n"
     ]
    }
   ],
   "source": [
    "print('Hello World')"
   ]
  },
  {
   "attachments": {},
   "cell_type": "markdown",
   "metadata": {},
   "source": [
    "## Arithmetic Expressions and Variables\n",
    "\n",
    "The most basic way to use python are arithmetic calculations. They're self-explanatory. Run the code below and check that results match your expectations."
   ]
  },
  {
   "cell_type": "code",
   "execution_count": 8,
   "metadata": {},
   "outputs": [
    {
     "name": "stdout",
     "output_type": "stream",
     "text": [
      "2 * (2 + 2) = 8\n",
      "6 - 4 / 2 = 4.0\n",
      "13 % 5 = 3\n"
     ]
    }
   ],
   "source": [
    "print('2 * (2 + 2) =', 2 * (2 + 2))\n",
    "print('6 - 4 / 2 =', 6 - 4 / 2)\n",
    "print('13 % 5 =', 13 % 5)\n"
   ]
  },
  {
   "attachments": {},
   "cell_type": "markdown",
   "metadata": {},
   "source": [
    "The only important thing to note is that python has different types, one for integers and one for floating point numbers. It becomes imporant when performing division"
   ]
  },
  {
   "cell_type": "code",
   "execution_count": 10,
   "metadata": {},
   "outputs": [
    {
     "name": "stdout",
     "output_type": "stream",
     "text": [
      "3.0 / 2.0 =  1.5\n",
      "3 // 2 = 1\n"
     ]
    }
   ],
   "source": [
    "print('3.0 / 2.0 = ', 3.0 / 2.0)\n",
    "print('3 // 2 =', 3 // 2)"
   ]
  },
  {
   "attachments": {},
   "cell_type": "markdown",
   "metadata": {},
   "source": [
    "Apart from numbers, python also supports boolean types and boolean logic"
   ]
  },
  {
   "cell_type": "code",
   "execution_count": 19,
   "metadata": {},
   "outputs": [
    {
     "name": "stdout",
     "output_type": "stream",
     "text": [
      "True or False = True\n",
      "True or False and not False = True\n",
      "2+2 == 4 and 6/3 == 2 is True\n",
      "5 > 6 or 5-2 < 4 is True\n"
     ]
    }
   ],
   "source": [
    "print('True or False =', True or False)\n",
    "print('True or False and not False =', True or False and not False)\n",
    "print('2+2 == 4 and 6/3 == 2 is', 2+2 == 4 and 6/3 == 2)\n",
    "print('5 > 6 or 5-2 < 4 is', 5 > 6 or 5-2 < 4)"
   ]
  },
  {
   "attachments": {},
   "cell_type": "markdown",
   "metadata": {},
   "source": [
    "Result of any arithmetic expression, or any other operation can be stored in a **variable**, which in turn can be used in a different expression.\n",
    "\n",
    "Go ahead an fill-out the following code by writing what would you expect the result to be."
   ]
  },
  {
   "cell_type": "code",
   "execution_count": 17,
   "metadata": {},
   "outputs": [
    {
     "name": "stdout",
     "output_type": "stream",
     "text": [
      "Correct, a * a + b = 19\n"
     ]
    }
   ],
   "source": [
    "a = 4 \n",
    "b = 3\n",
    "actual = a * a + b\n",
    "expected = # TODO: write what you expect the result to be before the comment.\n",
    "\n",
    "check_result('a * a + b', actual, expected)"
   ]
  },
  {
   "attachments": {},
   "cell_type": "markdown",
   "metadata": {},
   "source": [
    "Let's try to solve, another, trickier exercise. What do you think the output of the following code will be?"
   ]
  },
  {
   "cell_type": "code",
   "execution_count": 18,
   "metadata": {},
   "outputs": [
    {
     "name": "stdout",
     "output_type": "stream",
     "text": [
      "Correct, c = 7\n"
     ]
    }
   ],
   "source": [
    "a = 2 \n",
    "b = 5\n",
    "c = a + b\n",
    "a = 4\n",
    "\n",
    "actual = c\n",
    "expected = # Write what you expect the result to be before the comment.\n",
    "\n",
    "check_result('c', actual, expected)"
   ]
  },
  {
   "attachments": {},
   "cell_type": "markdown",
   "metadata": {},
   "source": [
    "## Strings and Lists"
   ]
  },
  {
   "attachments": {},
   "cell_type": "markdown",
   "metadata": {},
   "source": [
    "Another data type in python are **strings**. We can concatenated them, print them on the console, access their length and so on."
   ]
  },
  {
   "cell_type": "code",
   "execution_count": 22,
   "metadata": {},
   "outputs": [
    {
     "name": "stdout",
     "output_type": "stream",
     "text": [
      "Sasha Melkonyan\n"
     ]
    }
   ],
   "source": [
    "name = 'Sasha'\n",
    "surname = 'Melkonyan'\n",
    "fullname = name + ' ' + surname \n",
    "print(fullname)"
   ]
  },
  {
   "attachments": {},
   "cell_type": "markdown",
   "metadata": {},
   "source": [
    "Python strings can be also constructed using variables. Do do that, add a letter `f`, before the opening quote of the string. See the example below"
   ]
  },
  {
   "cell_type": "code",
   "execution_count": 62,
   "metadata": {},
   "outputs": [
    {
     "name": "stdout",
     "output_type": "stream",
     "text": [
      "Melkonyan, Sasha\n"
     ]
    }
   ],
   "source": [
    "name = 'Sasha'\n",
    "surname = 'Melkonyan'\n",
    "fullname = f'{surname}, {name}'\n",
    "print(fullname)"
   ]
  },
  {
   "cell_type": "code",
   "execution_count": 23,
   "metadata": {},
   "outputs": [
    {
     "name": "stdout",
     "output_type": "stream",
     "text": [
      "Wrong! len(name) = 5 not  4\n"
     ]
    }
   ],
   "source": [
    "\n"
   ]
  },
  {
   "attachments": {},
   "cell_type": "markdown",
   "metadata": {},
   "source": [
    "**Lists** allow to store multiple values in a single variable. You can then access each element of the list, modify it and perform operations on the whole list."
   ]
  },
  {
   "cell_type": "code",
   "execution_count": 27,
   "metadata": {},
   "outputs": [
    {
     "name": "stdout",
     "output_type": "stream",
     "text": [
      "prices = [13, 42, 56]\n",
      "prices[0] = 13 . Note that first element of the list has index 0.\n",
      "prices[2] == prices[-1] = 56 . Note that you can access element of a list from the back, by using negative index.\n"
     ]
    }
   ],
   "source": [
    "prices = [13, 42, 56]\n",
    "print('prices =', prices)\n",
    "print('prices[0] =', prices[0], '. Note that first element of the list has index 0.')\n",
    "print('prices[2] == prices[-1] =', prices[-1], '. Note that you can access element of a list from the back, by using negative index.')"
   ]
  },
  {
   "cell_type": "code",
   "execution_count": 30,
   "metadata": {},
   "outputs": [
    {
     "name": "stdout",
     "output_type": "stream",
     "text": [
      "prices = [13, 13, 56]\n"
     ]
    }
   ],
   "source": [
    "prices = [13, 42, 56]\n",
    "prices[1] = prices[0]\n",
    "print('prices =', prices)"
   ]
  },
  {
   "attachments": {},
   "cell_type": "markdown",
   "metadata": {},
   "source": [
    "Can you guess what the following code will do?"
   ]
  },
  {
   "cell_type": "code",
   "execution_count": 34,
   "metadata": {},
   "outputs": [
    {
     "name": "stdout",
     "output_type": "stream",
     "text": [
      "Correct, [1, 1] + [2, 2] = [1, 1, 2, 2]\n"
     ]
    }
   ],
   "source": [
    "array = [1, 1]\n",
    "\n",
    "actual = array + [2, 2]\n",
    "expected = # Write what you expect the result to be before the comment.\n",
    "check_result('[1, 1] + [2, 2]', actual, expected)"
   ]
  },
  {
   "cell_type": "markdown",
   "metadata": {},
   "source": [
    "Strings can be seen as a list of characters. "
   ]
  },
  {
   "cell_type": "code",
   "execution_count": 38,
   "metadata": {},
   "outputs": [
    {
     "name": "stdout",
     "output_type": "stream",
     "text": [
      "\"Sabrina\"[2] =  b\n"
     ]
    }
   ],
   "source": [
    "name = 'Sabrina'\n",
    "print('name[2] = ', name[2])\n"
   ]
  },
  {
   "attachments": {},
   "cell_type": "markdown",
   "metadata": {},
   "source": [
    "## Conditionals And Loops\n",
    "\n",
    "So far we have used python as a fancy calculator. It's real power starts to show once we look and conditionals and loops. \n",
    "\n",
    "**Conditionals** allow us to execute different logic depending on the value of variable or an arithmetic expression."
   ]
  },
  {
   "attachments": {},
   "cell_type": "markdown",
   "metadata": {},
   "source": [
    "Let's test your calculus skills. Try to guess the roots of equation `x^3 - 39x^2 + 507x - 2197 = 0`. If you run the code below, it will display a box to enter your guess."
   ]
  },
  {
   "cell_type": "code",
   "execution_count": 50,
   "metadata": {},
   "outputs": [
    {
     "data": {
      "application/vnd.jupyter.widget-view+json": {
       "model_id": "277636c9d8064039a740d16689f3de69",
       "version_major": 2,
       "version_minor": 0
      },
      "text/plain": [
       "BoundedIntText(value=7, description='Answer', max=15)"
      ]
     },
     "metadata": {},
     "output_type": "display_data"
    }
   ],
   "source": [
    "import ipywidgets as widgets\n",
    "input = widgets.BoundedIntText(\n",
    "    value=7, min=0, max=15, description='Answer'\n",
    " )\n",
    "display(input)"
   ]
  },
  {
   "cell_type": "code",
   "execution_count": 60,
   "metadata": {},
   "outputs": [
    {
     "name": "stdout",
     "output_type": "stream",
     "text": [
      "Incorrect, 11^3 + 39*11^2 + 507*11 - 2197 = -8 < 0. Your answer is too small!\n"
     ]
    }
   ],
   "source": [
    "x = input.value\n",
    "\n",
    "res = x*x*x - 39*x*x + 507*x - 2197\n",
    "if res > 0:\n",
    "    print(f'Incorrect, {x}^3 + 39*{x}^2 + 507*{x} - 2197 = {res} > 0. Your answer is too large!')\n",
    "elif res < 0:\n",
    "    print(f'Incorrect, {x}^3 + 39*{x}^2 + 507*{x} - 2197 = {res} < 0. Your answer is too small!')\n",
    "else: \n",
    "    print('You are right!')"
   ]
  },
  {
   "cell_type": "markdown",
   "metadata": {},
   "source": [
    "If you just want to store the result of a conditional to a variable, you can write it in a more compact form"
   ]
  },
  {
   "cell_type": "code",
   "execution_count": 63,
   "metadata": {},
   "outputs": [
    {
     "name": "stdout",
     "output_type": "stream",
     "text": [
      "Sasha\n"
     ]
    }
   ],
   "source": [
    "first_name = 'Sasha'\n",
    "last_name = 'Melkonyan'\n",
    "use_first_name = True\n",
    "\n",
    "result = first_name if use_first_name else last_name\n",
    "print(result)"
   ]
  },
  {
   "attachments": {},
   "cell_type": "markdown",
   "metadata": {},
   "source": [
    "TODO: explain for-loops"
   ]
  },
  {
   "cell_type": "code",
   "execution_count": null,
   "metadata": {},
   "outputs": [],
   "source": [
    "for i in range(0, 5):\n",
    "    res = res + i\n",
    "\n",
    "res = [i + 2 for i in range(0, 3)]\n",
    "\n",
    "res = [i for i in range(0, 7) if i % 2 == 1]\n",
    "\n",
    "\n"
   ]
  },
  {
   "attachments": {},
   "cell_type": "markdown",
   "metadata": {},
   "source": [
    "## Functions\n",
    "\n",
    "TODO: explain functions"
   ]
  },
  {
   "cell_type": "code",
   "execution_count": 2,
   "metadata": {},
   "outputs": [
    {
     "name": "stdout",
     "output_type": "stream",
     "text": [
      "30\n"
     ]
    }
   ],
   "source": [
    "\n",
    "def my_function(a, b):\n",
    "    return a+b\n",
    "\n",
    "print(my_function(10, 20))    \n",
    "\n"
   ]
  },
  {
   "attachments": {},
   "cell_type": "markdown",
   "metadata": {},
   "source": [
    "It is possible to create a function that doesn't take any argument"
   ]
  },
  {
   "cell_type": "code",
   "execution_count": null,
   "metadata": {},
   "outputs": [],
   "source": [
    "def meaning_of_life():\n",
    "    return 42 "
   ]
  },
  {
   "attachments": {},
   "cell_type": "markdown",
   "metadata": {},
   "source": [
    "It is also possible to create a function that doesn't return any value"
   ]
  },
  {
   "cell_type": "code",
   "execution_count": 4,
   "metadata": {},
   "outputs": [
    {
     "name": "stdout",
     "output_type": "stream",
     "text": [
      "hello\n"
     ]
    }
   ],
   "source": [
    "def say_hello():\n",
    "    print('hello')\n",
    "\n",
    "say_hello()\n"
   ]
  },
  {
   "attachments": {},
   "cell_type": "markdown",
   "metadata": {},
   "source": [
    "*Exercise* Create a function that takes a list of numbers `l` and a number `"
   ]
  },
  {
   "cell_type": "code",
   "execution_count": null,
   "metadata": {},
   "outputs": [],
   "source": []
  },
  {
   "attachments": {},
   "cell_type": "markdown",
   "metadata": {},
   "source": [
    "## Putting it together"
   ]
  },
  {
   "attachments": {},
   "cell_type": "markdown",
   "metadata": {},
   "source": [
    "### Exercise 1. Reverse Complement\n",
    "\n",
    "Write a function `reverse_complement` that returns a complimentary strand of a given DNA strand. DNA strand is a string of letters, e.g. `'AACGGTCC'`. Complimentary strand is constructed in using the base-pairing rules `A <-> T` and `C <-> G`. It both string should be given in the 5' to 3' direction. \n",
    "\n",
    "For our example string `'AACGGTCC'` the function should return a string `'GGACCGTT'`"
   ]
  },
  {
   "cell_type": "code",
   "execution_count": null,
   "metadata": {},
   "outputs": [],
   "source": [
    "def reverse_complement(dna):\n",
    "    pass\n",
    "\n",
    "res = reverse_complement('AACGGTCC')"
   ]
  },
  {
   "attachments": {},
   "cell_type": "markdown",
   "metadata": {},
   "source": [
    "## Common Pitfalls"
   ]
  },
  {
   "cell_type": "code",
   "execution_count": null,
   "metadata": {},
   "outputs": [],
   "source": [
    "res = 1 + True\n",
    "res = 2 or False\n",
    "print(res)"
   ]
  },
  {
   "cell_type": "code",
   "execution_count": 8,
   "metadata": {},
   "outputs": [
    {
     "data": {
      "application/vnd.jupyter.widget-view+json": {
       "model_id": "e79756e0cd794f67907aaba943aeef8c",
       "version_major": 2,
       "version_minor": 0
      },
      "text/plain": [
       "BoundedIntText(value=7, description='Text:', max=10)"
      ]
     },
     "metadata": {},
     "output_type": "display_data"
    }
   ],
   "source": [
    "\n"
   ]
  },
  {
   "cell_type": "code",
   "execution_count": 9,
   "metadata": {},
   "outputs": [
    {
     "data": {
      "text/plain": [
       "False"
      ]
     },
     "execution_count": 9,
     "metadata": {},
     "output_type": "execute_result"
    }
   ],
   "source": [
    "actual = btb.value\n",
    "expected == actual"
   ]
  },
  {
   "cell_type": "code",
   "execution_count": null,
   "metadata": {},
   "outputs": [],
   "source": []
  }
 ],
 "metadata": {
  "kernelspec": {
   "display_name": "Python 3 (ipykernel)",
   "language": "python",
   "name": "python3"
  },
  "language_info": {
   "codemirror_mode": {
    "name": "ipython",
    "version": 3
   },
   "file_extension": ".py",
   "mimetype": "text/x-python",
   "name": "python",
   "nbconvert_exporter": "python",
   "pygments_lexer": "ipython3",
   "version": "3.10.4"
  },
  "orig_nbformat": 4,
  "vscode": {
   "interpreter": {
    "hash": "3ad933181bd8a04b432d3370b9dc3b0662ad032c4dfaa4e4f1596c548f763858"
   }
  }
 },
 "nbformat": 4,
 "nbformat_minor": 2
}
